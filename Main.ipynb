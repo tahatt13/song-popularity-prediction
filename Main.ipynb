{
 "cells": [
  {
   "cell_type": "markdown",
   "metadata": {},
   "source": [
    "Ce projet est réalisé par Taha HABIB et Mohamed Sadok BOUZID"
   ]
  },
  {
   "cell_type": "code",
   "execution_count": 21,
   "metadata": {},
   "outputs": [
    {
     "name": "stdout",
     "output_type": "stream",
     "text": [
      "Requirement already satisfied: lxml in c:\\users\\ahmed\\anaconda3\\lib\\site-packages (4.9.1)\n",
      "Note: you may need to restart the kernel to use updated packages.\n"
     ]
    }
   ],
   "source": [
    "%pip install lxml"
   ]
  },
  {
   "cell_type": "code",
   "execution_count": 22,
   "metadata": {},
   "outputs": [
    {
     "name": "stdout",
     "output_type": "stream",
     "text": [
      "{'#Rebel': 'Extreme', \"'98 Braves\": 'Morgan Wallen', '(It Goes Like) Nanana': 'Peggy Gou', '0800 Heaven': 'Nathan Dawe', '21 Forever': 'Chris Janson', '22': 'JayO', '3D': 'Jungkook', '4 Me': 'Don Toliver', '5 Leaf Clover': 'Luke Combs', '500lbs': 'Lil Tecca', '72 Seasons': 'Metallica', '8AM In Charlotte': 'Drake', '9Beat': 'Half Moon Run', 'A Beautiful Game': 'Ed Sheeran', 'A Lot With A Little': 'Tyler Hubbard', 'A Love Song': 'Lady A', 'A Night To Remember': 'Beabadoobee', 'A&W': 'Lana Del Rey', 'Aberdaron': 'The Trials Of Cato', 'Acróstico': 'Shakira', 'Addicted To Romance': 'Bruce Springsteen', 'Adore U': 'Fred again', 'Agora Hills': 'Doja Cat', \"Ain't That Some\": 'Morgan Wallen', 'Alco': 'Half Moon Run', 'All My Life': 'Lil Durk', 'All My Sh-t Is In My Car': 'JP Saxe', 'All Of The Girls You Loved Before': 'Taylor Swift', 'All Of This Is Chance': \"Lisa O'Neill\", 'All-American Bitch': 'Olivia Rodrigo', 'Alone': 'Kim Petras', 'Always': 'Daniel Caesar', 'Always Gonna Be': 'Dan + Shay', 'Am I Dreaming': 'Metro Boomin', 'Amen!': 'Bring Me The Horizon', 'American Town': 'Ed Sheeran', 'Angel': 'Halle', 'Angel Numbers / Ten Toes': 'Chris Brown', 'Angel Pt. 1': 'Jimin', 'Angry': 'The Rolling Stones', 'Annihilate': 'Metro Boomin', 'Another Celebration At The End Of The World': 'Mammoth WVH', 'Another Late Night': 'Drake', 'Anthem Part 3': 'blink-182', 'Anxiety': 'Sleepy Hallow', 'Any Heart In A Storm': 'Tide Lines', 'Anywhere': 'JP Saxe', 'Are You Awake?': 'Lauren Mayberry', 'Area Codes': 'Kali', 'Asking': 'Sonny Fodera', 'Astrologically Illogical': 'Stephanie Poetri', 'Atomic City': 'U2', 'Attention': 'Doja Cat', 'ATUM': 'Smashing Pumpkins', 'Avalon': 'Blur', 'Baby Again..': 'Fred again', \"Baby Don't Hurt Me\": 'David Guetta', 'Back Home For Christmas': 'Mimi Webb', 'Back On 74': 'Jungle', 'Back Then Right Now': 'Tyler Hubbard', 'Bad Idea Right?': 'Olivia Rodrigo', 'Baddadan': 'Chase & Status', 'Ballad Of A Homeschooled Girl': 'Olivia Rodrigo', 'Balut': 'Doja Cat', 'Banshee': 'Extreme', 'Barbaric': 'Blur', 'Barbie Dreams': 'Fifty Fifty', 'Barbie World': 'Nicki Minaj', \"Barely Holdin' On\": 'Polo G', 'Be On Your Way': 'Daughter', 'Beautiful Day (Thank You For Sunshine)': 'Rushawn', 'Bed Of Roses': 'Ian Hunter', 'Bench Seat': 'Chase Rice', 'Beside You': 'James Blunt', 'Beso': 'Rosalía and Rauw Alejandro', 'Better Place': \"'N Sync\", 'Big 7': 'Burna Boy', 'Big Girls': 'Natalie Merchant', 'Bigger Houses': 'Dan + Shay', 'Bittersweet Goodbye': 'Issey Cross', 'Black Friday': 'Tom Odell', 'Black Hole': 'Boygenius', 'Blades': 'Arlo Parks', 'Bleed': 'The Kid Laroi', 'Blóðberg': 'Sigur Rós', 'Boat': 'Ed Sheeran', 'Body Better': 'Maisie Peters', 'Body Moving': 'Eliza Rose', 'Bongos': 'Cardi B', 'Borderline': 'Ed Sheeran', 'Bounce': 'Oliver Tree', 'Boyfriend': 'Usher', 'Boys Of Faith': 'Zach Bryan', \"Boyz Don't Cry\": 'Rod Wave', 'Bread & Butter': 'Gunna', 'Brilliant Mind': 'Blanco', 'Broken': 'Cole Swindell', 'Brrr': 'Kim Petras', \"Buddy's Back\": 'Graham Nash'}\n"
     ]
    }
   ],
   "source": [
    "import bs4\n",
    "import requests\n",
    "\n",
    "headers = {\n",
    "    'User-Agent': 'Mozilla/5.0 (Windows NT 10.0; Win64; x64) AppleWebKit/537.36 (KHTML, like Gecko) Chrome/58.0.3029.110 Safari/537.3'\n",
    "}\n",
    "music_dict = {}\n",
    "\n",
    "html_response = requests.get('https://www.songfacts.com/browse/years/2023', headers=headers)\n",
    "html_text = html_response.text \n",
    "soup = bs4.BeautifulSoup(html_text,'lxml')\n",
    "music_elements = soup.select('body > div:nth-child(8) > div > div > div > ul > li')\n",
    "for music_element in music_elements: \n",
    "    music_name = music_element.text\n",
    "    #print(music_name)\n",
    "    element = music_name.split(' - ')\n",
    "    song, singer = element\n",
    "    music_dict[song] = singer\n",
    "\n",
    "print(music_dict)"
   ]
  },
  {
   "cell_type": "code",
   "execution_count": 23,
   "metadata": {},
   "outputs": [
    {
     "name": "stdout",
     "output_type": "stream",
     "text": [
      "{'#Rebel': 'Extreme', \"'98 Braves\": 'Morgan Wallen', '(It Goes Like) Nanana': 'Peggy Gou', '0800 Heaven': 'Nathan Dawe', '21 Forever': 'Chris Janson', '22': 'JayO', '3D': 'Jungkook', '4 Me': 'Don Toliver', '5 Leaf Clover': 'Luke Combs', '500lbs': 'Lil Tecca', '72 Seasons': 'Metallica', '8AM In Charlotte': 'Drake', '9Beat': 'Half Moon Run', 'A Beautiful Game': 'Ed Sheeran', 'A Lot With A Little': 'Tyler Hubbard', 'A Love Song': 'Lady A', 'A Night To Remember': 'Beabadoobee', 'A&W': 'Lana Del Rey', 'Aberdaron': 'The Trials Of Cato', 'Acróstico': 'Shakira', 'Addicted To Romance': 'Bruce Springsteen', 'Adore U': 'Fred again', 'Agora Hills': 'Doja Cat', \"Ain't That Some\": 'Morgan Wallen', 'Alco': 'Half Moon Run', 'All My Life': 'Lil Durk', 'All My Sh-t Is In My Car': 'JP Saxe', 'All Of The Girls You Loved Before': 'Taylor Swift', 'All Of This Is Chance': \"Lisa O'Neill\", 'All-American Bitch': 'Olivia Rodrigo', 'Alone': 'Kim Petras', 'Always': 'Daniel Caesar', 'Always Gonna Be': 'Dan + Shay', 'Am I Dreaming': 'Metro Boomin', 'Amen!': 'Bring Me The Horizon', 'American Town': 'Ed Sheeran', 'Angel': 'Halle', 'Angel Numbers / Ten Toes': 'Chris Brown', 'Angel Pt. 1': 'Jimin', 'Angry': 'The Rolling Stones', 'Annihilate': 'Metro Boomin', 'Another Celebration At The End Of The World': 'Mammoth WVH', 'Another Late Night': 'Drake', 'Anthem Part 3': 'blink-182', 'Anxiety': 'Sleepy Hallow', 'Any Heart In A Storm': 'Tide Lines', 'Anywhere': 'JP Saxe', 'Are You Awake?': 'Lauren Mayberry', 'Area Codes': 'Kali', 'Asking': 'Sonny Fodera', 'Astrologically Illogical': 'Stephanie Poetri', 'Atomic City': 'U2', 'Attention': 'Doja Cat', 'ATUM': 'Smashing Pumpkins', 'Avalon': 'Blur', 'Baby Again..': 'Fred again', \"Baby Don't Hurt Me\": 'David Guetta', 'Back Home For Christmas': 'Mimi Webb', 'Back On 74': 'Jungle', 'Back Then Right Now': 'Tyler Hubbard', 'Bad Idea Right?': 'Olivia Rodrigo', 'Baddadan': 'Chase & Status', 'Ballad Of A Homeschooled Girl': 'Olivia Rodrigo', 'Balut': 'Doja Cat', 'Banshee': 'Extreme', 'Barbaric': 'Blur', 'Barbie Dreams': 'Fifty Fifty', 'Barbie World': 'Nicki Minaj', \"Barely Holdin' On\": 'Polo G', 'Be On Your Way': 'Daughter', 'Beautiful Day (Thank You For Sunshine)': 'Rushawn', 'Bed Of Roses': 'Ian Hunter', 'Bench Seat': 'Chase Rice', 'Beside You': 'James Blunt', 'Beso': 'Rosalía and Rauw Alejandro', 'Better Place': \"'N Sync\", 'Big 7': 'Burna Boy', 'Big Girls': 'Natalie Merchant', 'Bigger Houses': 'Dan + Shay', 'Bittersweet Goodbye': 'Issey Cross', 'Black Friday': 'Tom Odell', 'Black Hole': 'Boygenius', 'Blades': 'Arlo Parks', 'Bleed': 'The Kid Laroi', 'Blóðberg': 'Sigur Rós', 'Boat': 'Ed Sheeran', 'Body Better': 'Maisie Peters', 'Body Moving': 'Eliza Rose', 'Bongos': 'Cardi B', 'Borderline': 'Ed Sheeran', 'Bounce': 'Oliver Tree', 'Boyfriend': 'Usher', 'Boys Of Faith': 'Zach Bryan', \"Boyz Don't Cry\": 'Rod Wave', 'Bread & Butter': 'Gunna', 'Brilliant Mind': 'Blanco', 'Broken': 'Cole Swindell', 'Brrr': 'Kim Petras', \"Buddy's Back\": 'Graham Nash', 'Bug Like An Angel': 'Mitski', 'Burn It Down': 'Parker McCollum', 'But I Got A Beer In My Hand': 'Luke Bryan', 'By The End Of The Night': 'Ellie Goulding', 'Bye': 'Peso Pluma', \"C'est Comme Ça\": 'Paramore', 'Cab In A Solo': 'Scotty McCreery', 'California': 'Maia Sharp', 'Call Me What You Like': 'Lovejoy', 'Call Your Friends': 'Rod Wave', 'Call Your Mom': 'Noah Kahan', 'Calling': 'Metro Boomin', 'Calling All The Gods': 'Feist', 'Calling For You': 'Drake', 'Came The Closest': 'Sam Hunt', \"Can't Break Up Now\": 'Old Dominion', \"Can't Catch Me Now\": 'Olivia Rodrigo', \"Can't Outrun The Truth\": 'Pete Townshend', \"Can't Play Myself (A Tribute To Amy)\": 'Skepta', \"Can't Tame Her\": 'Zara Larsson', 'Candy Necklace': 'Lana Del Rey', 'Careful': 'NF', 'Carnavoyeur': 'Queens of the Stone Age', 'Castles Crumbling': 'Taylor Swift', 'Cha Cha Cha': 'Käärijä', 'Chanel': 'Becky G', 'Chasing Stars': 'Matteo Bocelli', 'Cheat On Me': 'Burna Boy', 'Check For Signs Of Life': 'Phil Selway', 'Chemical': 'Post Malone', 'City Boys': 'Burna Boy', 'Closer': 'Bou', 'Cobra': 'Megan Thee Stallion', 'Coco Chanel': 'Eladio Carrión', 'Colourblind': 'Ed Sheeran', 'Come See Me': 'Rod Wave', 'Cool About It': 'Boygenius', 'Cool Little Bars': 'Ashley McBryde', 'Copa Vacia': 'Shakira', 'Council Skies': \"Noel Gallagher's High Flying Birds\", 'Country Music Made Me Do It': 'Carly Pearce', 'County Road': 'Margo Price', 'Cowboy Back': 'Gabby Barrett', 'Cowboy Boots': 'Dierks Bentley', 'Cowboys And Plowboys': 'Jon Pardi', 'Cowgirls': 'Morgan Wallen', 'Coyotes': 'Bill Callahan', 'Crash This Gate': 'Ceili Rain', 'Cupid (Twin Version)': 'Fifty Fifty', 'Curtains': 'Ed Sheeran', 'Daily Duppy': 'Nines', 'Dance Around It': 'Joel Corry', 'Dance The Night': 'Dua Lipa', 'Dance With Me': 'blink-182', 'Dancing Is Healing': 'Rudimental', 'Dancing With Your Shadows': 'Phillip Phillips', 'Dark Thought': 'James Blunt', 'Dark Void': 'Asking Alexandria', 'Darkside': 'Bring Me The Horizon', 'Dave Flow': 'Fredo', 'Dawns': 'Zach Bryan', 'Daylight': 'Drake', 'De Selby (Part 2)': 'Hozier', 'Dead To The World': \"Noel Gallagher's High Flying Birds\", 'Dear Insecurity': 'Brandy Clark', 'Death': 'Melanie Martinez', 'Deep Satin': 'Zach Bryan', 'Deli': 'Ice Spice', 'Delresto (Echoes)': 'Travis Scott', 'Demons': 'Doja Cat', 'Desire': 'Calvin Harris', 'Dial Drunk': 'Noah Kahan', 'Die Young': 'Venbee', 'Disconnect': 'Becky Hill', 'DIwhy': 'Sleaford Mods', 'DNA (Loving You)': 'Billy Gillies', 'Dogtooth': 'Tyler, the Creator', \"Don't Forget Me\": 'Dermot Kennedy', \"Don't Say Love\": 'Leigh-Anne', 'Doomsday': 'Lyrical Lemonade', 'Double Fantasy': 'The Weeknd', 'Dreamy Skies': 'The Rolling Stones', 'Drinkaby': 'Cole Swindell', \"Drinkin'\": 'Joel Corry', 'Dropped Reeling & Stupid': 'The Zombies', 'Dusty': 'Ed Sheeran', 'Dying Man': 'Morgan Wallen', 'East Side Of Sorrow': 'Zach Bryan', 'Easy Now': \"Noel Gallagher's High Flying Birds\", 'Eat The Acid': 'Kesha', 'Eat Your Young': 'Hozier', 'El Azul': 'Junior H', 'El Dorado': 'Zach Bryan', 'El Jefe': 'Shakira', 'Electric Touch': 'Taylor Swift', 'Ella Baila Sola': 'Eslabon Armado', \"Emily I'm Sorry\": 'Boygenius', 'Emotion Sickness': 'Queens of the Stone Age', 'Empty': 'Orgy', 'End Of Youth': 'Ed Sheeran', 'Endless Fashion': 'Lil Uzi Vert', 'Energy': 'Digga D', 'England': 'Ed Sheeran', 'Enough Is Enough': 'Post Malone', 'ETA': 'NewJeans', 'Eucalyptus': 'The National', 'Evangeline': 'Stephen Sanchez', \"Every Mother's Son\": 'Blak Emoji', 'Everybody Get Along': 'Justin Moore', \"Everyone's Moving Out East\": 'Half Moon Run', 'Everything I Love': 'Morgan Wallen', 'Exes': 'Tate McRae', 'Eyes Closed': 'Ed Sheeran', 'Eyes Of Love': 'Peter Case', 'F64': 'Ed Sheeran', 'Fake As Hell': 'All Time Low', 'Fallen Angel': 'Maia Sharp', 'Falling Or Flying': 'Jorja Smith', 'Fantasy': 'Lauren Spencer-Smith', 'Fast Car': 'Luke Combs', 'Favorite Kind Of High': 'Kelly Clarkson', 'Favorite Song': 'Toosii', 'Fe!n': 'Travis Scott', 'Fear Of Heights': 'Drake', 'Feel It (Club Edit)': 'Jazzy', 'Feel Like The Holidays': 'Scotty McCreery', 'Feelings': 'Jorja Smith', 'Fell In Love': 'blink-182', 'Festa': 'Andrea Bocelli', 'Fight The Feeling': 'Rod Wave', 'Fina': 'Bad Bunny', 'Fine Line': 'Kesha', 'Fingertips': 'Lana Del Rey', \"Fires Don't Start Themselves\": 'Darius Rucker', 'First Person Shooter': 'Drake', 'First Time': 'Hozier', \"Fix'n to Break\": 'Bailey Zimmerman', 'Flip A Switch': 'Raye', 'Flooded The Face': 'Lil Uzi Vert', 'Flower': 'Jisoo', 'Flowers': 'Miley Cyrus', 'Fly Girl': 'Flo', 'Foolish One': 'Taylor Swift', 'For The Both Of Us': 'Dan + Shay', 'For You': 'Matteo Bocelli', 'Fought & Lost': 'Sam Ryder', 'Francesca': 'Hozier', 'Freezing': 'Mimi Webb', 'From The Start': 'Laufey', 'Fukumean': 'Gunna', 'Gang Gang Gang': 'Jack Harlow', 'Gently': 'Drake', 'Get Him Back!': 'Olivia Rodrigo', 'Get The Hell Out Of Here': 'Maren Morris', 'Get Up Kid': '30 Seconds to Mars', 'Getting Started': 'Jason Mraz', 'Ghosts Again': 'Depeche Mode', 'Giddy Up!': 'Shania Twain', 'Gimme': 'Sam Smith', 'Give Her That': 'Carrie Underwood', 'Giving Me': 'Jazzy', 'Glory Days': 'Gabby Barrett', 'Glow': 'Julia Cannon', 'Glue Song': 'Beabadoobee', 'Go Go Go': 'Jorja Smith', 'God Is Really Real': 'AJR', 'Godmode': 'In This Moment', \"Gone Cryin'\": 'Maia Sharp', 'Gonna Be You': 'Dolly Parton', 'Gonna Love You': 'Parmalee', 'Good Good': 'Usher', 'Good Love': 'Hannah Laing', 'Goodbye Never Felt So Bad': 'James Bay', 'Got Me Started': 'Troye Sivan', 'Great Gatsby': 'Rod Wave', 'Greedy': 'Tate McRae', 'Green Honda': 'Benee', 'Green Sand': 'Mary Lee Kortes', \"Growin' Up and Gettin' Old\": 'Luke Combs', 'Gucci los Paños': 'Karol G', 'Gutter': 'Venbee', 'Haegeum': 'Agust D', 'Happy': 'NF', 'Harley Quinn': 'Fuerza Regida', 'Hated': 'Yungblud', \"Haven't You Ever Been In Love Before?\": 'Lewis Capaldi', 'Hawaii': 'Public Image Ltd.', 'Hayami Hana': 'Rauw Alejandro', 'Healing': 'Tion Wayne', 'Heart Still Beating': 'Nathan Dawe', \"Heart They Didn't Break\": 'Maddie & Tae', 'Heartbreak Feels So Good': 'Fall Out Boy', 'Heartbreak Kid': 'The Vaccines', 'Heartbroken': 'Diplo', 'Heaven': 'Mitski', 'Heaven Changes Everything': 'Big Daddy Weave', 'Heavenly Kind Of State Of Mind': 'Lewis Capaldi', 'Here': 'Tom Grennan', 'Hey DJ': 'Joel Corry', 'Hey Driver': 'Zach Bryan', 'Hey Whiskey': 'Tim McGraw', 'Hey, Jack': 'Priscilla Block', 'Hide And Seek': 'Nick Waterhouse', 'Highs & Lows': 'Prinz', 'Hold Me Like A Grudge': 'Fall Out Boy', 'Hold On': 'Katy Nichole', 'Holding Out For A Hero': 'Adam Lambert', 'Home For My Heart': 'ArrDee', 'Honey (Are U Coming?)': 'Måneskin', 'Hope': 'NF', 'Houdini': 'Dua Lipa', 'How Does It Feel': 'Tom Grennan', \"How I'm Feeling Now\": 'Lewis Capaldi', 'How Many': 'Julia Cannon', \"Hum's Liquor\": 'Lucinda Williams', 'Hyaena': 'Travis Scott', \"I Ain't Going Nowhere\": 'Parker McCollum', 'I Can Believe': 'Ceili Rain', 'I Can Feel It': 'Kane Brown', 'I Can See You': 'Taylor Swift', \"I Don't Miss You\": 'JP Saxe', 'I Feel Like Dancing': 'Jason Mraz', 'I Hate Cowboys': 'Chase Rice', 'I Hate Love': 'Kelly Clarkson', 'I Know': 'Kanii', 'I Know?': 'Travis Scott', 'I Remember Everything': 'Zach Bryan', 'I Should Just Go To Bed': 'ROSIE', 'I Want To Go Home': 'Oliver Anthony', 'I Wish You Roses': 'Kali Uchis', 'I Would Die For You': 'In This Moment', 'I Wrote A Song': 'Mae Muller', 'I Wrote The Book': 'Morgan Wallen', \"I'll Be Holding On\": 'Morgan James', \"I'm Just Ken\": 'Ryan Gosling', \"I'm Not Here To Make Friends\": 'Sam Smith', \"I'm Not Pretty\": 'Megan Moroney', 'Ice Cream Man': 'Raye', 'IDGAF': 'Drake', 'If Darkness Had A Son': 'Metallica', 'If I Were A Fish': 'Corook', 'If Looks Could Kill': 'Destroy Lonely', 'If We Ever Broke Up': 'Mae Stephens', \"If You Think You've Seen It All\": 'Jason Mraz', 'If You Were Mine': 'Miranda Lambert', 'In Ha Mood': 'Ice Spice', 'In Lightning': 'Feist', 'In My Life': 'Frances Luke Accord', 'In The City': 'Charli XCX', 'In Your Love': 'Tyler Childers', 'Inamorata': 'Metallica', 'Intoxycated': 'Oxlade', 'Is It Over Now?': 'Taylor Swift', 'It Girl': \"Aliyah's Interlude\", 'It Takes A Woman': 'Chris Stapleton', \"It's Crazy\": 'J Hus', \"J'adore\": 'Strandz', 'Jaded': 'Miley Cyrus', 'Jealousy': 'Offset', 'Johnny Dang': 'That Mexican OT', 'Joy Revolution': 'Raye Zaragoza', 'Just Us': 'James Arthur', 'K-pop': 'Travis Scott', 'Karaoke': 'Everything But The Girl', 'Keep Going Up': 'Timbaland', 'Killing Me': 'Conan Gray', 'Kind': 'Maia Sharp', 'Knowledge Freedom Power': 'The Slow Readers Club', 'LA Hex': 'The Kills', 'Labour': 'Paris Paloma', 'Lacy': 'Olivia Rodrigo', 'Lady Gaga': 'Peso Pluma', 'Lady Vagabond': 'Grace Potter', 'Lala': 'Myke Towers', 'Lalalala': 'Stray Kids', 'Last Night': 'Morgan Wallen', 'Last Night Lost': 'Blak Emoji', 'Last Time I Saw You': 'Nicki Minaj', 'Laugh Track': 'The National', 'Learned To Lie': 'Ashley McBryde', 'Leather': 'Cody Johnson', 'Leave Me Again': 'Kelsea Ballerini', 'Let Go': 'Asking Alexandria', 'Let Your Boys Be Country': 'Jason Aldean', 'Liar': 'Paramore', 'Life Goes On': 'Ed Sheeran', 'Light On In The Kitchen': 'Ashley McBryde', 'Like Crazy': 'Jimin', 'Lil Boo Thang': 'Paul Russell', 'Lines In The Sky': 'Cole Gallagher', 'Lipstick': 'Charlie Puth', 'Liquor & Cigarettes': 'Chase & Status', 'Little Hitchhiker': 'Grace Potter', 'Little Things': 'Jorja Smith', 'Little Time': 'Jason Mraz', 'Live More & Love More': 'Cat Burns', 'LLYLM': 'Rosalia', 'Loading': 'James Blake', 'Logical': 'Olivia Rodrigo', 'Look Ma, No Brains': 'Green Day', 'Looking For A Place': 'Nick Waterhouse', 'Looking For You': 'Chris Young', 'Lose Control': 'Teddy Swims', 'Lost': 'Bring Me The Horizon', 'Love Again': 'The Kid Laroi', 'Love Come Back To Me': 'Phillip Phillips', 'Love From The Other Side': 'Fall Out Boy', 'Love In The Dark': 'Abe Partridge', 'Love Is Embarrassing': 'Olivia Rodrigo', 'Love Like This': 'Zayn', 'Love Me Again': 'V\\r', 'Love Will Live On': 'Villages', 'Love You Anyway': 'Luke Combs', 'Love You Back': 'Lady A', 'Love You While I Can': 'The Zombies', 'Lovin On Me': 'Jack Harlow', 'Lowlife': 'Yungblud', 'Luna': 'Peso Pluma', 'Magical': 'Ed Sheeran', 'Make Me': 'Borai & Denham Audio', 'Making The Bed': 'Olivia Rodrigo', \"Mamaw's House\": 'Thomas Rhett', 'Man Made A Bar': 'Morgan Wallen', 'Maria': 'Frances Luke Accord', 'Mariana Trench': 'Gabrielle Aplin', \"Martin's Sofa\": 'Headie One', 'Masculine': 'J Hus', 'Mathematical Disrespect': 'Lil Mabu', 'Me': 'Kelly Clarkson', 'Me & U ': 'Tems', 'Me & You': 'Central Cee', 'Meeting The Master': 'Greta Van Fleet', 'Mejor Que Yo': 'Anuel AA', 'Meltdown': 'Travis Scott', 'Memory Lane': 'Old Dominion', 'Mermaids': 'Florence + the Machine', 'Messy': 'Olivia Dean', 'Mi Ex Tenía Razón': 'Karol G', 'Middle Ground': 'Maroon 5', 'Middle Of The Morning': 'Jason Isbell', 'Mientras Me Curo Del Cora': 'Karol G', 'Militerian': 'J Hus', 'Million Little Bandaids': 'Caroline Jones', 'Mind Your Business': 'will.i.am', 'Mine': 'Kelly Clarkson', 'Miracle': 'Calvin Harris', 'Modernise': 'The Slow Readers Club', 'Mojabi Ghost': 'Tainy', 'Mona Lisa': 'Dominic Fike', 'Monaco': 'Bad Bunny', 'Money': 'Young Thug', 'Money On The Dash': 'Whethan', 'Moonlight': 'Kali Uchis', 'Moonlight Sunrise': 'Twice', 'Morning Show': 'Iggy Pop', 'Mosquito': 'PinkPantheress', 'Mother': 'Meghan Trainor', 'Mother Road': 'Grace Potter', 'Motto': 'NF', 'Mountain': 'Sam Ryder', 'Mountains At Midnight': 'Royal Blood', 'Mourning': 'Post Malone', 'Mr Right': 'Mae Stephens', 'Muddy Feet': 'Miley Cyrus', 'Murdaside': 'Mazza L20', 'My Eyes': 'Travis Scott', 'My Love': 'Leigh-Anne', 'My Love Mine All Mine': 'Mitski', 'My Specialty': 'Ceili Rain', 'Nadie Sabe': 'Bad Bunny', 'Nashville CA/L.A. Tennessee': 'Tim McGraw', 'Negative Space': 'Queens of the Stone Age', 'Never Ending Song': 'Conan Gray', 'Never Felt So Alone': 'Labrinth', 'New Order T-Shirt': 'The National', 'Nice To Meet You': 'PinkPantheress', 'No More Lies': 'Thundercat', \"No One Knows We're Dancing\": 'Everything But The Girl', 'No Sleep': 'Regard', 'No Strings': 'Ed Sheeran', 'Nobody': 'Avenged Sevenfold', \"Nobody's Fool But Mine\": 'Morgan James', \"Nobody's Nobody\": 'Brothers Osborne', 'Normal People Things': 'Lovejoy', 'Normal Person': 'Caroline Jones', 'Not A Monster': 'Raye Zaragoza', 'Not Strong Enough': 'Boygenius', 'Nothing Compares To You': 'Mickey Guyton', 'Nothing Matters': 'The Last Dinner Party', 'Now And Then': 'The Beatles', \"Now That We Don't Talk\": 'Taylor Swift', 'Nymphology': 'Melanie Martinez', 'Obliteration': 'Filter', 'Oceans Apart': 'The Coral', 'Odyssey': 'Beck', 'Oh Baby': 'Nathan Dawe', 'Oh U Went': 'Young Thug', 'Oil': 'Gorillaz', 'Old Dreams': 'Maia Sharp', 'Old Note': \"Lisa O'Neill\", 'Old Times Sake': 'JP Saxe', 'OMG': 'NewJeans', 'On A Good Day': 'Maia Sharp', 'On My Love': 'Zara Larsson', 'On My Mama': 'Victoria Monét', 'On The Radar Freestyle': 'Drake', 'On The Street': 'J-Hope', 'One In A Million': 'Bebe Rexha', 'One Moment': 'Lenka', 'One More Time': 'blink-182', 'One Of The Girls': 'The Weeknd', 'One Of Your Girls': 'Troye Sivan', 'Oral': 'Björk', 'Other Side Of The Rainbow': 'Extreme', 'Out Of That Truck': 'Carrie Underwood', 'Outskirts': 'Sam Hunt', 'Over': 'Chvrches', 'Overcome': 'Nothing But Thieves', 'Overdrive': 'Post Malone', 'Padam Padam': 'Kylie Minogue', 'Pagan Run': 'Yusuf Islam', 'Paint The Town Red': 'Doja Cat', 'Pakistan': 'D-Block Europe', 'Panopticom': 'Peter Gabriel', 'Paper Machete': 'Queens of the Stone Age', 'Parade On Cleveland': 'Young Thug', 'Paris, Texas': 'Lana Del Rey', 'Part Of Me': 'Cian Ducrot', 'Party All The Time': 'Hannah Laing', 'Peach Velvet Sky': 'Corinne Bailey Rae', 'Peaches': 'Jack Black', 'Peaches & Eggplants': 'Young Nudy', 'Pegasus': 'Arlo Parks', 'People Pt.2': 'Agust D', 'Peppers': 'Lana Del Rey', 'Perfect': 'Freya Ridings', 'Perhaps': \"Guns N' Roses\", 'Perro Negro': 'Bad Bunny', 'Peso Pluma: Bzrp Music Sessions, Vol. 55': 'Bizarrap', 'Pink': 'Lizzo', 'Play The Fiddle All Night': 'Villages', 'Playing For Time': 'Peter Gabriel', 'Popular': 'The Weeknd', 'Possession Island': 'Gorillaz', 'Potential': 'ROSIE', 'Pound Town 2': 'Sexyy Red', 'Prada': 'Cassö', 'Praising You': 'Rita Ora', 'Pray It Away': 'Chlöe', 'PRC': 'Peso Pluma', 'Pressure': 'Machine Gun Kelly', 'Pretend': 'Colbie Caillat', 'Pretty Boys': 'Caity Baser', \"Pretty Isn't Pretty\": 'Olivia Rodrigo', 'Pretty Little Poison': 'Warren Zeiders', 'Princess Diana': 'Ice Spice', 'Private Landing': 'Don Toliver', 'Psycho': 'Asking Alexandria', 'Pull Me Through': 'Royal Blood', 'Put It On Da Floor Again': 'Latto', 'Qlona': 'Karol G', 'Que Onda': 'Fuerza Regida', 'Queen Of Kings': 'Alessandra', 'Queen Of Me': 'Shania Twain', 'Rain In The Rearview': 'Anne Wilson', 'Rave Out': 'Turno', 'React': 'Switch Disco', 'Realest': 'Ez Mil', 'Reason To Drink': 'Uncle Kracker', 'Red': 'Hardy', 'Red Button': 'Drake', 'Red Flags': 'Mimi Webb', 'Red Ruby Da Sleeze': 'Nicki Minaj', 'Rediscover': 'The Zombies', 'Religiously': 'Bailey Zimmerman', 'Rescued': 'Foo Fighters', 'Rhyme Dust': 'MK', 'Rich Baby Daddy': 'Drake', 'Rich Men North Of Richmond': 'Oliver Anthony', 'Rise': 'Extreme', 'River': 'Miley Cyrus', 'Rock Hudson': 'Kelly Clarkson', 'Rocks In The Field': 'Villages', 'Rose Colored Rearview': 'Grace Potter', 'Rumble': 'Skrillex', 'Runaway': 'OneRepublic', 'Running Out Of Time': 'Paramore', 'Rush': 'Troye Sivan', 'Russian Strings': 'Blur', 'S91': 'Karol G', 'Sabor Fresa': 'Fuerza Regida', 'Sad Bitch': 'Anne-Marie', 'Salt Water': 'Ed Sheeran', 'Same Here': 'Brad Paisley', \"Same Ol' Me\": 'Dierks Bentley', 'Same Problems?': 'A$AP Rocky', 'Sara': 'Darius Rucker', \"Sarah's Place\": 'Zach Bryan', 'Save Me The Trouble': 'Dan + Shay', 'Sawgrass': 'Josh Ritter', \"Say Don't Go\": 'Taylor Swift', 'Say My Grace': 'Offset', 'Say Yes To Heaven': 'Lana Del Rey', 'Science': 'Niall Horan', 'Screaming Suicide': 'Metallica', 'Search & Rescue': 'Drake', 'Seasons': 'Bebe Rexha', 'Según Quién': 'Maluma', 'Selecta': 'Chase & Status', 'Self Love': 'Metro Boomin', 'Sensational': 'Chris Brown', 'Set Me Free Pt.2': 'Jimin', 'Seven': 'Jungkook', 'Seven Minutes In Heaven': 'Reba McEntire', 'Seventh of June': 'Anne Wilson', 'Shakira: Bzrp Music Sessions, Vol. 53': 'Bizarrap', 'She Smoked In The House': 'Brandy Clark', \"She'll Let Herself Out\": 'Maia Sharp', 'Show Me How': 'Foo Fighters', 'Side Effects': 'Becky Hill', 'Silent Running': 'Gorillaz', 'Silhouette': 'Lenka', 'Silly Me': 'Jess Glynne', 'Single Soon': 'Selena Gomez', 'Sister Tilly': 'Natalie Merchant', \"Sittin' On Top Of The World\": 'Burna Boy', 'Skinny Ape': 'Gorillaz', 'Slime You Out': 'Drake', 'Slow Dancing': 'V\\r', 'Slut!': 'Taylor Swift', 'So Many Summers': 'Brad Paisley', 'So Much In Love': 'D.O.D', 'So You Are Tired': 'Sufjan Stevens', \"Some Things I'll Never Know\": 'Teddy Swims', 'Someday': 'Josh Ritter', \"Someone Else's Home\": 'JP Saxe', 'Something Real': 'Dierks Bentley', \"Something's Gonna Kill Me\": 'Corey Kent', 'Sorry Not Sorry': 'Tyler, the Creator', 'Soul With Me': 'Depeche Mode', 'Southern And Slow': 'Luke Bryan', 'Space Invader': 'The National', 'Spark': 'Ed Sheeran', 'Speak To Me': 'Depeche Mode', 'Speed': 'Parker McCollum', 'Speed Drive': 'Charli XCX', 'Spirit 2.0': 'Sampha', 'Split': 'Yeat', 'Spotless': 'Zach Bryan', 'Sprinter': 'Dave', 'St. Charles Square': 'Blur', 'Stand By Me': 'Lil Durk', 'Standing Next To You': 'Jungkook', 'Standing Room Only': 'Tim McGraw', 'Star': 'Mitski', 'Stop Waiting': 'Cigarettes After Sex', 'Strangers': 'Kenya Grace', 'Strays': 'Margo Price', 'Stuck': '30 Seconds to Mars', 'Stumbling In The Dark': 'Cole Gallagher', 'Suburban Legends': 'Taylor Swift', 'Sunrise': 'Morgan Wallen', 'Sunshine Baby': 'The Japanese House', 'Super Shy': 'NewJeans', 'Superbloodmoon': 'Holly Humberstone', 'Supposed To Be Loved': 'DJ Khaled', 'Surrender': 'Jann Klose', 'Sweet 16': 'Uncle Kracker', 'Sweet Sounds Of Heaven': 'The Rolling Stones', 'Swing (In A Dream)': 'Squid', 'Sycamore': 'Ed Sheeran', 'Sympathy': 'Declan McKenna', 'Take Her Home': 'Kenny Chesney', 'Take Me Out': 'Carrie Underwood', 'Take Shape': 'Code Orange', 'Take Two': 'BTS', 'Talibans': 'Byron Messia', 'Tarantula': 'Gorillaz', 'Tattoo': 'Loreen', 'Teenage Dream': 'Olivia Rodrigo', 'Tekken 2': 'Bombay Bicycle Club', 'Telekinesis': 'Travis Scott', 'Ten': 'Fred again', 'Tension': 'Kylie Minogue', 'Thank God': 'Travis Scott', 'Thank God I Do': 'Lauren Daigle', \"That's Not How This Works\": 'Charlie Puth', 'The Alcott': 'The National', 'The American Dream Is Killing Me': 'Green Day', 'The Ballad': 'Blur', 'The Cave': 'Needtobreathe', 'The Court': 'Peter Gabriel', 'The Devil I Know': 'Ashley McBryde', \"The Dirt I'm Buried In\": 'Avatar', 'The Dumb Song': 'AJR', 'The Everglades (For Leonard)': 'Blur', 'The Fooler': 'Nick Waterhouse', 'The Girl That Never Was': 'James Blunt', 'The Girls': 'BlackPink', 'The Glass': 'Foo Fighters', 'The Grants': 'Lana Del Rey', 'The Grudge': 'Olivia Rodrigo', 'The Hillbillies': 'Baby Keem', 'The Hills Of Aberfeldy': 'Ed Sheeran', 'The Hype': 'Sigrid', 'The Narcissist': 'Blur', 'The Painter': 'Cody Johnson', 'The Pretender': 'Lewis Capaldi', 'The Problem With A Street': 'Nick Waterhouse', 'The Purge': 'In This Moment', 'The Road To Hell And Back': 'Maia Sharp', 'The Shoe Fits': 'Drake', 'The Summoning': 'Sleep Token', 'The Teacher': 'Foo Fighters', 'The Thing That Wrecks You': 'Tenille Townes', 'The Tired Influencer': 'Gorillaz', 'The Tree': 'Maren Morris', 'The Way Things Go': 'Beabadoobee', 'The Weekend': 'Stormzy', 'These Are The Days': 'Lauren Daigle', \"They Don't Love It\": 'Jack Harlow', 'Thicker Than Blood': 'Extreme', \"Think I'm In Love With You\": 'Chris Stapleton', \"Thinkin' Bout Me\": 'Morgan Wallen', 'This Is Our God': 'Phil Wickham', 'This Town Is A Ghost': 'The Cadillac Three', 'This Year (Blessings)': 'Victor Thompson', 'Thousand Miles': 'Miley Cyrus', 'Timeless': 'Taylor Swift', 'Timezone': 'Måneskin', 'TMO (Turn Me On)': 'Luude', 'To Summer, From Cole (Audio Hug)': 'Summer Walker', 'Tony Soprano 2': 'Nines', 'Too Far Now': 'Maia Sharp', 'Too Much': 'The Kid Laroi', 'Tormenta': 'Gorillaz', 'Tourniquet': 'Zach Bryan', 'Toxic Trait': 'Stormzy', 'TQG': 'Karol G', 'TQM': 'Fuerza Regida', 'Trainwreck': 'Anne-Marie', \"Trees We'll Never See\": 'Amy Grant', 'Trojan Horse': 'Dave', 'Tropic Morning News': 'The National', 'Truck Bed': 'Hardy', 'True Babe': 'Gwen Stefani', 'Trustfall': 'Pink', 'Try Me': 'Jorja Smith', 'Try That In a Small Town': 'Jason Aldean', 'Tucson Too Late': 'Jordan Davis', 'Tulum': 'Peso Pluma', 'Turks & Caicos': 'Rod Wave', 'Tus Gafitas': 'Karol G', 'Tuya': 'Rosalia', 'Twust': 'HStikkytokky', 'UK Grim': 'Sleaford Mods', 'UK Rap': 'Dave', 'Un Preview': 'Bad Bunny', 'Un x100to': 'Grupo Frontera', 'Unavailable': 'Davido', 'Under You': 'Foo Fighters', 'Unhealthy': 'Anne-Marie', 'Unicorn': 'Noa Kirel', 'Unknown / Nth': 'Hozier', 'Unreal, Immaterial': 'Nick Waterhouse', 'Used To Be Young': 'Miley Cyrus', 'Valentine': 'Måneskin', 'Vampire': 'Olivia Rodrigo', 'Vega': 'Ed Sheeran', 'Vertigo': 'Griff', 'Vibe': 'Taeyang', 'Violet Chemistry': 'Miley Cyrus', 'Virginia Beach': 'Drake', 'Voices': 'KSI', 'Void': 'Melanie Martinez', 'Vulgar': 'Sam Smith', 'Vultures': 'Kanye West & Ty Dolla $ign', 'Waffle House': 'Jonas Brothers', 'Wagging Tongue': 'Depeche Mode', 'Walk With Me Forever': 'Dieth', 'Walmart': 'Sam Hunt', 'Watch The World Burn': 'Falling in Reverse', 'Watch This (Arizonatears Pluggnb Remix)': 'Lil Uzi Vert', 'Water': 'Tyla', 'We Caa Done': 'Popcaan', \"We Didn't Start The Fire\": 'Fall Out Boy', \"We Don't Fight Anymore\": 'Carly Pearce', 'We Love You': 'Avenged Sevenfold', 'We Should Get Married': 'Dan + Shay', 'Weekends': 'Freya Ridings', 'Weightless': 'Arlo Parks', 'Welcome To The DCC': 'Nothing But Thieves', 'What Am I Gonna Do': 'Chris Stapleton', 'What It Is (Block Boy)': 'Doechii'}\n",
      "793\n"
     ]
    }
   ],
   "source": [
    "import bs4\n",
    "import requests\n",
    "\n",
    "headers = {\n",
    "    'User-Agent': 'Mozilla/5.0 (Windows NT 10.0; Win64; x64) AppleWebKit/537.36 (KHTML, like Gecko) Chrome/58.0.3029.110 Safari/537.3'\n",
    "}\n",
    "music_dict = {}\n",
    "for year in range(2023, 2024):\n",
    "    for page_num in range(1, 9):\n",
    "        if page_num ==1 : \n",
    "            url = f'https://www.songfacts.com/browse/years/{year}'\n",
    "        else :\n",
    "            url = f'https://www.songfacts.com/browse/years/{year}/page{page_num}'\n",
    "        html_response = requests.get(url, headers=headers)\n",
    "        html_text = html_response.text \n",
    "        soup = bs4.BeautifulSoup(html_text,'lxml')\n",
    "        music_elements = soup.select('body > div:nth-child(8) > div > div > div > ul > li')\n",
    "        for music_element in music_elements: \n",
    "            music_name = music_element.text\n",
    "            #print(music_name)\n",
    "            element = music_name.split(' - ')\n",
    "            song, singer = element\n",
    "            music_dict[song] = singer\n",
    "    print(music_dict)\n",
    "    print(len(music_dict))"
   ]
  },
  {
   "cell_type": "code",
   "execution_count": null,
   "metadata": {},
   "outputs": [],
   "source": [
    "import bs4\n",
    "import requests\n",
    "\n",
    "headers = {\n",
    "    'User-Agent': 'Mozilla/5.0 (Windows NT 10.0; Win64; x64) AppleWebKit/537.36 (KHTML, like Gecko) Chrome/58.0.3029.110 Safari/537.3'\n",
    "}\n",
    "music_dict = {}\n",
    "for year in range(2010, 2024):\n",
    "    url = f'https://www.songfacts.com/browse/years/{year}'\n",
    "    html_response = requests.get(url, headers=headers)\n",
    "    html_text = html_response.text \n",
    "    soup = bs4.BeautifulSoup(html_text,'lxml')\n",
    "    page_numbers = soup.find(\"div\", class_=\"pagination-result-info visible-md visible-lg visible-sm\")\n",
    "    #print(page_numbers.text)\n",
    "    sentence = page_numbers.text.split()\n",
    "    #print(sentence)\n",
    "    page_number = sentence[-1]\n",
    "    page_number = int(page_number)\n",
    "    #print(page_number)\n",
    "    for page_num in range(1, page_number):\n",
    "        if page_num ==1 : \n",
    "            url = f'https://www.songfacts.com/browse/years/{year}'\n",
    "        else :\n",
    "            url = f'https://www.songfacts.com/browse/years/{year}/page{page_num}'\n",
    "        html_response = requests.get(url, headers=headers)\n",
    "        html_text = html_response.text \n",
    "        soup = bs4.BeautifulSoup(html_text,'lxml')\n",
    "        music_elements = soup.select('body > div:nth-child(8) > div > div > div > ul > li')\n",
    "        for music_element in music_elements: \n",
    "            music_name = music_element.text\n",
    "            #print(music_name)\n",
    "            element = music_name.split(' - ')\n",
    "            if len(element)==2:\n",
    "                #print(element)\n",
    "                song, singer = element\n",
    "                music_dict[song] = singer\n",
    "print(music_dict)\n",
    "print(len(music_dict))\n",
    "\n",
    "    #body > div:nth-child(8) > div > div > div > div.pagination-result-info.visible-md.visible-lg.visible-sm"
   ]
  },
  {
   "cell_type": "code",
   "execution_count": 24,
   "metadata": {},
   "outputs": [
    {
     "data": {
      "text/plain": [
       "'Whethan,elley,\\xa0Duhé'"
      ]
     },
     "execution_count": 24,
     "metadata": {},
     "output_type": "execute_result"
    }
   ],
   "source": [
    "music_dict['3D'] = 'Jung kook'\n",
    "music_dict['Stuck'] = 'Thirty Seconds to Mars'\n",
    "music_dict['Get Up Kid'] = 'Thirty Seconds to Mars'\n",
    "music_dict['Trustfall'] = 'P!nk'\n",
    "music_dict['Standing Next To You'] = 'Jung kook'\n",
    "music_dict['Seven'] = 'Jung kook'\n",
    "music_dict.pop(\"She'll Let Herself Out\")\n",
    "music_dict['Shell Let Herself Out'] = 'Maia Sharp'\n",
    "music_dict['Beso'] = 'Rosalia, Rauw Alejandro'\n",
    "music_dict['Que Onda'] = 'Calle 24, Chino Pacas, Fuerza Regida'\n",
    "music_dict['Sad B!tch '] = 'Anne-Marie'\n",
    "music_dict[\"Im Not Pretty\"] = 'Megan Moroney'\n",
    "music_dict.pop(\"Can't Break Up Now\") \n",
    "music_dict['Cant Break Up Now'] = 'Old Dominion, Megan Moroney'\n",
    "music_dict.pop(\"Can't Tame Her\")\n",
    "music_dict['Cant Tame Her'] = 'Zara Larsson'\n",
    "music_dict.pop('Can\\'t Outrun The Truth')\n",
    "music_dict['Cant Outrun The Truth'] ='Pete Townshend'\n",
    "music_dict.pop('All My Sh-t Is In My Car')\n",
    "music_dict['All My Shit Is In My Car'] = 'JP Saxe'\n",
    "music_dict['Vultures'] = '¥$, Kanye West, Ty Dolla $ign, Bump J, Lil Durk'\n",
    "music_dict.pop(\"Don't Forget Me\")\n",
    "music_dict['Dont Forget Me'] ='Dermot Kennedy'\n",
    "music_dict.pop(\"Don't Say Love\")\n",
    "music_dict[\"Dont Say Love\"] = 'Leigh-Anne'\n",
    "music_dict.pop(\"Haven't You Ever Been In Love Before?\")\n",
    "music_dict[\"Havent You Ever Been In Love Before?\"] = 'Lewis Capaldi'\n",
    "music_dict.pop(\"Hum's Liquor\")\n",
    "music_dict.pop(\"Can't Play Myself (A Tribute To Amy)\")\n",
    "music_dict['Cant Play Myself (A Tribute To Amy)'] = 'Skepta'\n",
    "\n",
    "music_dict.pop(\"I'll Be Holding On\")\n",
    "music_dict['Ill Be Holding On']='Morgan James'\n",
    "music_dict.pop(\"I'm Not Here To Make Friends\")\n",
    "music_dict['Im Not Here To Make Friends']='Sam Smith'\n",
    "music_dict.pop(\"I'm Not Pretty\")\n",
    "music_dict[\"Im Not Pretty\"]='Megan Moroney'\n",
    "music_dict.pop(\"J'adore\")\n",
    "music_dict['Jadore']='Strandz'\n",
    "music_dict[\"Money On The Dash\"]='Whethan,elley, Duhé'\n",
    "music_dict.pop(\"Sad Bitch\")\n",
    "music_dict['Sad B!tch']='Anne-Marie'\n",
    "music_dict.pop(\"DIwhy\")\n",
    "music_dict.pop(\"Money On The Dash\")\n"
   ]
  },
  {
   "cell_type": "code",
   "execution_count": 25,
   "metadata": {},
   "outputs": [
    {
     "name": "stdout",
     "output_type": "stream",
     "text": [
      "Requirement already satisfied: python-dotenv in c:\\users\\ahmed\\anaconda3\\lib\\site-packages (1.0.0)\n",
      "Requirement already satisfied: spotipy in c:\\users\\ahmed\\anaconda3\\lib\\site-packages (2.23.0)\n",
      "Requirement already satisfied: urllib3>=1.26.0 in c:\\users\\ahmed\\anaconda3\\lib\\site-packages (from spotipy) (1.26.14)\n",
      "Requirement already satisfied: six>=1.15.0 in c:\\users\\ahmed\\anaconda3\\lib\\site-packages (from spotipy) (1.16.0)\n",
      "Requirement already satisfied: requests>=2.25.0 in c:\\users\\ahmed\\anaconda3\\lib\\site-packages (from spotipy) (2.28.1)\n",
      "Requirement already satisfied: redis>=3.5.3 in c:\\users\\ahmed\\anaconda3\\lib\\site-packages (from spotipy) (5.0.1)\n",
      "Requirement already satisfied: async-timeout>=4.0.2 in c:\\users\\ahmed\\anaconda3\\lib\\site-packages (from redis>=3.5.3->spotipy) (4.0.3)\n",
      "Requirement already satisfied: charset-normalizer<3,>=2 in c:\\users\\ahmed\\anaconda3\\lib\\site-packages (from requests>=2.25.0->spotipy) (2.0.4)\n",
      "Requirement already satisfied: idna<4,>=2.5 in c:\\users\\ahmed\\anaconda3\\lib\\site-packages (from requests>=2.25.0->spotipy) (3.4)\n",
      "Requirement already satisfied: certifi>=2017.4.17 in c:\\users\\ahmed\\anaconda3\\lib\\site-packages (from requests>=2.25.0->spotipy) (2022.12.7)\n"
     ]
    }
   ],
   "source": [
    "!pip install python-dotenv\n",
    "!pip install spotipy"
   ]
  },
  {
   "cell_type": "code",
   "execution_count": 26,
   "metadata": {},
   "outputs": [
    {
     "name": "stdout",
     "output_type": "stream",
     "text": [
      "4651fc1d67c14dd192eaba9f19261813\n",
      "a6fdfb92da5f435a9cbd31729019b9d2\n"
     ]
    }
   ],
   "source": [
    "from dotenv import load_dotenv\n",
    "import os\n",
    "\n",
    "load_dotenv()\n",
    "\n",
    "client_secret = os.getenv(\"CLIENT_SECRET\")\n",
    "client_id = os.getenv(\"CLIENT_ID\")\n",
    "\n",
    "print(client_secret)\n",
    "print(client_id)"
   ]
  },
  {
   "cell_type": "code",
   "execution_count": 27,
   "metadata": {},
   "outputs": [],
   "source": [
    "import spotipy\n",
    "from spotipy.oauth2 import SpotifyClientCredentials\n",
    "\n",
    "#Authentication - without user\n",
    "client_credentials_manager = SpotifyClientCredentials(client_id=client_id, client_secret=client_secret)\n",
    "spotifyObject = spotipy.Spotify(client_credentials_manager = client_credentials_manager)"
   ]
  },
  {
   "cell_type": "code",
   "execution_count": 28,
   "metadata": {},
   "outputs": [],
   "source": [
    "artist_name = 'Maia Sharp'\n",
    "track_name = 'Shell Let Herself Out' \n",
    "\n",
    "results = spotifyObject.search(q=f'artist:{artist_name} track:{track_name}', type='track')\n",
    "\n",
    "if results['tracks']['items']:\n",
    "\n",
    "    track_info = results['tracks']['items'][0]\n",
    "\n",
    "    print(\"track name:\", track_info['name'])\n",
    "    print(\"Artist:\", \", \".join([artist['name'] for artist in track_info['artists']]))\n",
    "    print(\"Album:\", track_info['album']['name'])\n",
    "    print(\"track ID:\", track_info['id'])\n",
    "else:\n",
    "    print(f\"no track found for the artist '{artist_name}' and the music '{track_name}'.\")\n"
   ]
  },
  {
   "cell_type": "code",
   "execution_count": null,
   "metadata": {},
   "outputs": [],
   "source": [
    "import pandas as pd\n",
    "\n",
    "\n",
    "music_data = []\n",
    "track_names = []\n",
    "artist_names = []\n",
    "track_ids = []\n",
    "for track_name, artist_name in music_dict.items():\n",
    "    results = spotifyObject.search(q=f'artist:{artist_name} track:{track_name}', type='track')\n",
    "\n",
    "    if results['tracks']['items']:\n",
    "        track_info = results['tracks']['items'][0]\n",
    "        track_id = track_info['id']\n",
    "\n",
    "        track_names.append(track_name)\n",
    "        artist_names.append(artist_name)\n",
    "        track_ids.append(track_id)\n",
    "#    else:\n",
    "#        print(f\"No track found for the artist '{artist_name}' and the music '{track_name}'.\")\n",
    "\n",
    "# Convert the list of tuples into a pandas DataFrame\n",
    "#df = pd.DataFrame(music_data, columns=['Music Name', 'Artist', 'Music ID'])\n",
    "\n",
    "# Now, the DataFrame 'df' contains the music name, artist, and track ID\n",
    "#print(df)"
   ]
  },
  {
   "cell_type": "code",
   "execution_count": null,
   "metadata": {},
   "outputs": [
    {
     "name": "stdout",
     "output_type": "stream",
     "text": [
      "                              Music Name         Artist  \\\n",
      "0                                 #Rebel        Extreme   \n",
      "1                             '98 Braves  Morgan Wallen   \n",
      "2                  (It Goes Like) Nanana      Peggy Gou   \n",
      "3                            0800 Heaven    Nathan Dawe   \n",
      "4                             21 Forever   Chris Janson   \n",
      "..                                   ...            ...   \n",
      "786  Cant Play Myself (A Tribute To Amy)         Skepta   \n",
      "787                    Ill Be Holding On   Morgan James   \n",
      "788          Im Not Here To Make Friends      Sam Smith   \n",
      "789                               Jadore        Strandz   \n",
      "790                            Sad B!tch     Anne-Marie   \n",
      "\n",
      "                   Music ID  Acousticness  Danceability  Energy  \\\n",
      "0    1OZC7bLs9BGls508k9zRtf      0.000078         0.190   0.897   \n",
      "1    3oZ6dlSfCE9gZ55MGPJctc      0.096900         0.488   0.670   \n",
      "2    23RoR84KodL5HWvUTneQ1w      0.120000         0.671   0.876   \n",
      "3    4YUgS4PGLSBI6sbKUxaD3D      0.188000         0.643   0.833   \n",
      "4    48pyG4Fg15OHEWaV2sOPfu      0.340000         0.378   0.735   \n",
      "..                      ...           ...           ...     ...   \n",
      "786  6GrLwf1LdBCmkBOsmOcbPp      0.004290         0.804   0.705   \n",
      "787  1u0dFbfSzHikHWe6olHYkn      0.563000         0.425   0.469   \n",
      "788  3i0FkJYlU4MFfYkjFHXXAM      0.172000         0.698   0.895   \n",
      "789  1ZiBudnpvQfopaxd8bbDLD      0.084800         0.597   0.470   \n",
      "790  4nfyxpiejEPrUHLnejED7i      0.296000         0.544   0.692   \n",
      "\n",
      "     Instrumentalness  Liveness  Loudness  Speechiness    Tempo  Valence  \\\n",
      "0            0.021800    0.4270    -6.667       0.0941  194.928    0.315   \n",
      "1            0.000220    0.2570    -5.759       0.0268  142.139    0.484   \n",
      "2            0.188000    0.0823    -5.681       0.0352  129.998    0.964   \n",
      "3            0.000002    0.3390    -4.109       0.1000  139.941    0.216   \n",
      "4            0.000684    0.1160    -4.761       0.0426  133.967    0.210   \n",
      "..                ...       ...       ...          ...      ...      ...   \n",
      "786          0.034300    0.1100    -7.289       0.0354  126.986    0.209   \n",
      "787          0.000000    0.1890    -9.290       0.0457  132.264    0.495   \n",
      "788          0.000015    0.4090    -4.439       0.0628  114.914    0.838   \n",
      "789          0.000138    0.0964    -8.609       0.3970  120.493    0.728   \n",
      "790          0.000000    0.1310    -3.207       0.1550  193.954    0.618   \n",
      "\n",
      "     Duration_ms  Key  Mode  Time_signature  Popularity  \n",
      "0         263427   11     1               3          31  \n",
      "1         178704    2     1               4          77  \n",
      "2         231545    7     0               4          90  \n",
      "3         159316    6     1               4          50  \n",
      "4         319776    0     1               4          33  \n",
      "..           ...  ...   ...             ...         ...  \n",
      "786       174331    9     1               4          72  \n",
      "787       344920    5     0               4           9  \n",
      "788       229605    0     1               4          74  \n",
      "789       117333    6     0               5          64  \n",
      "790       132794    0     0               4          56  \n",
      "\n",
      "[791 rows x 17 columns]\n"
     ]
    }
   ],
   "source": [
    "acousticness = []\n",
    "danceability = []\n",
    "energy = []\n",
    "instrumentalness = []\n",
    "liveness = []\n",
    "loudness = []\n",
    "speechiness = []\n",
    "tempo = []\n",
    "valence = []\n",
    "duration_ms = []\n",
    "key = []\n",
    "mode = []\n",
    "time_signature = []\n",
    "popularity = []\n",
    "\n",
    "for id in track_ids:\n",
    "    features = spotifyObject.audio_features(id)[0]\n",
    "    \n",
    "    acousticness.append(features['acousticness'])\n",
    "    danceability.append(features['danceability'])\n",
    "    energy.append(features['energy'])\n",
    "    instrumentalness.append(features['instrumentalness'])\n",
    "    liveness.append(features['liveness'])\n",
    "    loudness.append(features['loudness'])\n",
    "    speechiness.append(features['speechiness'])\n",
    "    tempo.append(features['tempo'])\n",
    "    valence.append(features['valence'])\n",
    "    duration_ms.append(features['duration_ms'])\n",
    "    key.append(features['key'])\n",
    "    mode.append(features['mode'])\n",
    "    time_signature.append(features['time_signature'])\n",
    "\n",
    "    track_info = spotifyObject.track(id)\n",
    "    popularity.append(track_info['popularity'])\n",
    "\n",
    "\n",
    "data = {\n",
    "    'Music Name':track_names, \n",
    "    'Artist': artist_names,\n",
    "    'Music ID':track_ids,\n",
    "    'Acousticness': acousticness,\n",
    "    'Danceability': danceability,\n",
    "    'Energy': energy,\n",
    "    'Instrumentalness': instrumentalness,\n",
    "    'Liveness': liveness,\n",
    "    'Loudness': loudness,\n",
    "    'Speechiness': speechiness,\n",
    "    'Tempo': tempo,\n",
    "    'Valence': valence,\n",
    "    'Duration_ms': duration_ms,\n",
    "    'Key': key,\n",
    "    'Mode': mode,\n",
    "    'Time_signature': time_signature,\n",
    "    'Popularity': popularity\n",
    "}\n",
    "\n",
    "df = pd.DataFrame(data)\n",
    "print(df)"
   ]
  },
  {
   "cell_type": "code",
   "execution_count": null,
   "metadata": {},
   "outputs": [
    {
     "name": "stderr",
     "output_type": "stream",
     "text": [
      "C:\\Users\\ahmed\\AppData\\Local\\Temp\\ipykernel_6808\\2399801299.py:3: UserWarning: Dataset has 0 variance; skipping density estimate. Pass `warn_singular=False` to disable this warning.\n",
      "  sns.displot(df['Popularity'], kind= 'kde')\n"
     ]
    },
    {
     "data": {
      "text/plain": [
       "<seaborn.axisgrid.FacetGrid at 0x1d6202a4b80>"
      ]
     },
     "execution_count": 20,
     "metadata": {},
     "output_type": "execute_result"
    },
    {
     "data": {
      "image/png": "[encoded data removed]",
      "text/plain": [
       "<Figure size 500x500 with 1 Axes>"
      ]
     },
     "metadata": {},
     "output_type": "display_data"
    }
   ],
   "source": [
    "import seaborn as sns\n",
    "\n",
    "sns.displot(df['Popularity'], kind= 'kde')\n",
    "\n"
   ]
  }
 ],
 "metadata": {
  "kernelspec": {
   "display_name": "base",
   "language": "python",
   "name": "python3"
  },
  "language_info": {
   "codemirror_mode": {
    "name": "ipython",
    "version": 3
   },
   "file_extension": ".py",
   "mimetype": "text/x-python",
   "name": "python",
   "nbconvert_exporter": "python",
   "pygments_lexer": "ipython3",
   "version": "3.10.9"
  }
 },
 "nbformat": 4,
 "nbformat_minor": 2
}
